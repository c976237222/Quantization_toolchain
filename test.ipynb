{
 "cells": [
  {
   "cell_type": "code",
   "execution_count": 3,
   "metadata": {},
   "outputs": [
    {
     "name": "stdout",
     "output_type": "stream",
     "text": [
      "Using device: cuda\n",
      "Test dataset size: 50000\n"
     ]
    },
    {
     "name": "stderr",
     "output_type": "stream",
     "text": [
      "Evaluating: 100%|██████████| 500/500 [00:59<00:00,  8.39it/s]"
     ]
    },
    {
     "name": "stdout",
     "output_type": "stream",
     "text": [
      "Accuracy on the test dataset: 74.55%\n"
     ]
    },
    {
     "name": "stderr",
     "output_type": "stream",
     "text": [
      "\n"
     ]
    }
   ],
   "source": [
    "import torch\n",
    "import torchvision\n",
    "import torchvision.transforms as transforms\n",
    "from torchvision.models import resnet50\n",
    "from torch.utils.data import DataLoader\n",
    "from tqdm import tqdm\n",
    "\n",
    "# Step 1: 设置设备\n",
    "device = torch.device(\"cuda\" if torch.cuda.is_available() else \"cpu\")\n",
    "print(f\"Using device: {device}\")\n",
    "\n",
    "# Step 2: 数据预处理\n",
    "# 使用 ImageNet 数据集标准化参数\n",
    "transform = transforms.Compose([\n",
    "    transforms.Resize((224, 224)),  # ResNet-50 输入大小为 224x224\n",
    "    transforms.ToTensor(),\n",
    "    transforms.Normalize(mean=[0.485, 0.456, 0.406], std=[0.229, 0.224, 0.225])  # ImageNet 标准化\n",
    "])\n",
    "\n",
    "# Step 3: 加载 ImageNet 数据集\n",
    "# ImageNet 官方数据集需要手动下载，或者使用 Tiny-ImageNet 作为替代\n",
    "# 这里以 Tiny-ImageNet 为例（需提前下载到 ./data/tiny-imagenet-200）\n",
    "dataset_dir = '/share/wangsiyuan-local/datasets/imagenet'\n",
    "test_dir = f\"{dataset_dir}/val5000\"  # 假设 Tiny-ImageNet 验证集位于该路径\n",
    "\n",
    "# 加载验证集\n",
    "test_dataset = torchvision.datasets.ImageFolder(root=test_dir, transform=transform)\n",
    "test_loader = DataLoader(test_dataset, batch_size=100, shuffle=False, num_workers=4)\n",
    "\n",
    "print(f\"Test dataset size: {len(test_dataset)}\")\n",
    "\n",
    "# Step 4: 加载预训练的 ResNet-50 模型\n",
    "# 加载基于 ImageNet 训练的预训练模型\n",
    "model = resnet50(pretrained=True)\n",
    "model = model.to(device)\n",
    "model.eval()  # 设置为评估模式\n",
    "\n",
    "# Step 5: 在测试集上评估模型\n",
    "def evaluate_model(model, test_loader, device):\n",
    "    model.eval()  # 确保模型在评估模式\n",
    "    correct = 0\n",
    "    total = 0\n",
    "    with torch.no_grad():  # 禁用梯度计算\n",
    "        for images, labels in tqdm(test_loader, desc=\"Evaluating\"):\n",
    "            images, labels = images.to(device), labels.to(device)\n",
    "            \n",
    "            # 前向传播\n",
    "            outputs = model(images)\n",
    "            _, predicted = torch.max(outputs, 1)\n",
    "            \n",
    "            # 计算准确率\n",
    "            total += labels.size(0)\n",
    "            correct += (predicted == labels).sum().item()\n",
    "    \n",
    "    accuracy = 100 * correct / total\n",
    "    print(f\"Accuracy on the test dataset: {accuracy:.2f}%\")\n",
    "\n",
    "# 评估模型\n",
    "evaluate_model(model, test_loader, device)\n"
   ]
  },
  {
   "cell_type": "code",
   "execution_count": null,
   "metadata": {},
   "outputs": [],
   "source": [
    "import torch\n",
    "from torchvision.models import resnet50\n",
    "\n",
    "# Step 1: 加载预训练模型\n",
    "model = resnet50(pretrained=True)\n",
    "model.eval()  # 设置为评估模式\n",
    "\n",
    "# Step 2: 创建一个示例输入\n",
    "# ResNet-50 的输入大小为 [batch_size, 3, 224, 224]，其中 3 是 RGB 通道数\n",
    "dummy_input = torch.randn(1, 3, 224, 224)\n",
    "\n",
    "# Step 3: 导出为 ONNX 模型\n",
    "onnx_file_path = \"resnet50.onnx\"\n",
    "torch.onnx.export(\n",
    "    model,                          # PyTorch 模型\n",
    "    dummy_input,                    # 示例输入\n",
    "    onnx_file_path,                 # 导出的 ONNX 文件路径\n",
    "    export_params=True,             # 导出训练好的参数权重\n",
    "    opset_version=13,               # ONNX opset 版本\n",
    "    do_constant_folding=True,       # 是否进行常量折叠优化\n",
    "    input_names=[\"input\"],          # 输入节点名称\n",
    "    output_names=[\"output\"],        # 输出节点名称\n",
    "    dynamic_axes={                  # 动态轴支持（可选）\n",
    "        \"input\": {0: \"batch_size\"}, # 批量大小可以动态变化\n",
    "        \"output\": {0: \"batch_size\"}\n",
    "    }\n",
    ")\n",
    "\n",
    "print(f\"Model exported to {onnx_file_path}\")\n"
   ]
  }
 ],
 "metadata": {
  "kernelspec": {
   "display_name": "ppq",
   "language": "python",
   "name": "python3"
  },
  "language_info": {
   "codemirror_mode": {
    "name": "ipython",
    "version": 3
   },
   "file_extension": ".py",
   "mimetype": "text/x-python",
   "name": "python",
   "nbconvert_exporter": "python",
   "pygments_lexer": "ipython3",
   "version": "3.9.21"
  }
 },
 "nbformat": 4,
 "nbformat_minor": 2
}
